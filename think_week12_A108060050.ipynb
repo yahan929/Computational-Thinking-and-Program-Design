{
  "nbformat": 4,
  "nbformat_minor": 0,
  "metadata": {
    "colab": {
      "name": "Untitled5.ipynb",
      "provenance": [],
      "authorship_tag": "ABX9TyOOOc8ludFbO43Ix77N7vcI",
      "include_colab_link": true
    },
    "kernelspec": {
      "name": "python3",
      "display_name": "Python 3"
    }
  },
  "cells": [
    {
      "cell_type": "markdown",
      "metadata": {
        "id": "view-in-github",
        "colab_type": "text"
      },
      "source": [
        "<a href=\"https://colab.research.google.com/github/yahan929/Computational-Thinking-and-Program-Design/blob/master/think_week12_A108060050.ipynb\" target=\"_parent\"><img src=\"https://colab.research.google.com/assets/colab-badge.svg\" alt=\"Open In Colab\"/></a>"
      ]
    },
    {
      "cell_type": "code",
      "metadata": {
        "id": "SZUW28XAuWNC",
        "colab_type": "code",
        "colab": {
          "base_uri": "https://localhost:8080/",
          "height": 84
        },
        "outputId": "85876e3a-224e-4ef9-ba96-e0130f654327"
      },
      "source": [
        "noodle=input(\"有麵嗎?YES/NO\")\n",
        "sauce=input(\"有醬料嗎?YES/NO\")\n",
        "if noodle==\"YES\":\n",
        "   if sauce==\"YES\":\n",
        "      print(\"可做義大利麵\")\n",
        "print(\"Well done!\")"
      ],
      "execution_count": 2,
      "outputs": [
        {
          "output_type": "stream",
          "text": [
            "有麵嗎?YES/NOYES\n",
            "有醬料嗎?YES/NOYES\n",
            "可做義大利麵\n",
            "Well done!\n"
          ],
          "name": "stdout"
        }
      ]
    },
    {
      "cell_type": "code",
      "metadata": {
        "id": "4s5-VbGQukVh",
        "colab_type": "code",
        "colab": {
          "base_uri": "https://localhost:8080/",
          "height": 84
        },
        "outputId": "eef60a67-14a6-4d60-a803-7829140c386c"
      },
      "source": [
        "noodle=input(\"有麵嗎?YES/NO\")\n",
        "sauce=input(\"有醬料嗎?YES/NO\")\n",
        "if noodle==\"YES\"and sauce==\"YES\":\n",
        "      print(\"可做義大利麵\")\n",
        "print(\"Well done!\")"
      ],
      "execution_count": 4,
      "outputs": [
        {
          "output_type": "stream",
          "text": [
            "有麵嗎?YES/NOYES\n",
            "有醬料嗎?YES/NOYES\n",
            "可做義大利麵\n",
            "Well done!\n"
          ],
          "name": "stdout"
        }
      ]
    }
  ]
}