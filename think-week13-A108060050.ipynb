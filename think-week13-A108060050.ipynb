{
  "nbformat": 4,
  "nbformat_minor": 0,
  "metadata": {
    "colab": {
      "name": "Untitled6.ipynb",
      "provenance": [],
      "authorship_tag": "ABX9TyOBII+ui5xhPHfuDpcE0nsH",
      "include_colab_link": true
    },
    "kernelspec": {
      "name": "python3",
      "display_name": "Python 3"
    }
  },
  "cells": [
    {
      "cell_type": "markdown",
      "metadata": {
        "id": "view-in-github",
        "colab_type": "text"
      },
      "source": [
        "<a href=\"https://colab.research.google.com/github/yahan929/Computational-Thinking-and-Program-Design/blob/master/think-week13-A108060050.ipynb\" target=\"_parent\"><img src=\"https://colab.research.google.com/assets/colab-badge.svg\" alt=\"Open In Colab\"/></a>"
      ]
    },
    {
      "cell_type": "code",
      "metadata": {
        "id": "mohzVbWB_jI-",
        "colab_type": "code",
        "colab": {
          "base_uri": "https://localhost:8080/",
          "height": 50
        },
        "outputId": "1fd70d75-1313-4462-c32b-08ecdc871061"
      },
      "source": [
        "score=int(input(\"你考幾分?\"))\n",
        "if score>=80:\n",
        "  print(\"評語為\"\"非常好!\")"
      ],
      "execution_count": 1,
      "outputs": [
        {
          "output_type": "stream",
          "text": [
            "你考幾分?82\n",
            "評語為非常好!\n"
          ],
          "name": "stdout"
        }
      ]
    },
    {
      "cell_type": "code",
      "metadata": {
        "id": "LMXmBcLbBOri",
        "colab_type": "code",
        "colab": {
          "base_uri": "https://localhost:8080/",
          "height": 50
        },
        "outputId": "35034106-0831-478d-f4f2-86a29d5d5323"
      },
      "source": [
        "score=int(input(\"你考幾分?\"))\n",
        "if score>=80:\n",
        "  print(\"評語為\"\"非常好!\")\n",
        "else: \n",
        "  print(\"評語為\"\"要再加油喔\")"
      ],
      "execution_count": 2,
      "outputs": [
        {
          "output_type": "stream",
          "text": [
            "你考幾分?56\n",
            "評語為要再加油喔\n"
          ],
          "name": "stdout"
        }
      ]
    },
    {
      "cell_type": "code",
      "metadata": {
        "id": "uIrgkq_zBddG",
        "colab_type": "code",
        "colab": {
          "base_uri": "https://localhost:8080/",
          "height": 50
        },
        "outputId": "8440be61-d607-48d2-8791-a2f492705e9e"
      },
      "source": [
        "score=int(input(\"你考幾分?\"))\n",
        "if score>=80:\n",
        "  print(\"評語為\"\"非常好!\")\n",
        "elif score>=60:\n",
        "     print(\"評語為\"\"不錯哦\")\n",
        "else:\n",
        " print(\"評語為\"\"要再加油喔\")"
      ],
      "execution_count": 3,
      "outputs": [
        {
          "output_type": "stream",
          "text": [
            "你考幾分?60\n",
            "評語為不錯哦\n"
          ],
          "name": "stdout"
        }
      ]
    },
    {
      "cell_type": "code",
      "metadata": {
        "id": "_nWpW7FwBt2D",
        "colab_type": "code",
        "colab": {}
      },
      "source": [
        ""
      ],
      "execution_count": 0,
      "outputs": []
    }
  ]
}