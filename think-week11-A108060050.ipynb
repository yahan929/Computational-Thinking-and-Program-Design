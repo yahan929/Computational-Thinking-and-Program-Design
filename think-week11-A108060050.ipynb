{
  "nbformat": 4,
  "nbformat_minor": 0,
  "metadata": {
    "colab": {
      "name": "Untitled4.ipynb",
      "provenance": [],
      "authorship_tag": "ABX9TyPf7ja79QVPKTeNesJng1FD",
      "include_colab_link": true
    },
    "kernelspec": {
      "name": "python3",
      "display_name": "Python 3"
    }
  },
  "cells": [
    {
      "cell_type": "markdown",
      "metadata": {
        "id": "view-in-github",
        "colab_type": "text"
      },
      "source": [
        "<a href=\"https://colab.research.google.com/github/yahan929/Computational-Thinking-and-Program-Design/blob/master/think-week11-A108060050.ipynb\" target=\"_parent\"><img src=\"https://colab.research.google.com/assets/colab-badge.svg\" alt=\"Open In Colab\"/></a>"
      ]
    },
    {
      "cell_type": "code",
      "metadata": {
        "id": "sElTZEUAbC5j",
        "colab_type": "code",
        "colab": {
          "base_uri": "https://localhost:8080/",
          "height": 184
        },
        "outputId": "b612c7d5-0155-4c0c-cc1e-25c8511767cb"
      },
      "source": [
        "print(\"哈囉。我是Zyxo 64。我是一個聊天機器人。\")\n",
        "print(\"我喜歡動物，也喜歡聊食物。\")\n",
        "name = input(\"你叫什麼名字？: \")\n",
        "print(\"你好\", name, \"很高興認識你\")\n",
        "year = input(\"我記不太清楚日期。今年是幾年？： \")\n",
        "print(\"好的，我覺得沒錯。謝謝！\")\n",
        "myage = input(\"你能猜出我的年齡嗎？ - 輸入一個數字： \")\n",
        "print(\"沒錯，你猜對了。我\", myage)\n",
        "myage = int(myage)\n",
        "nyears = 100 - myage\n",
        "print(\"我再\", nyears, \"年就滿100歲了。\")\n",
        "print(\"到時候是\", int(year) + nyears)"
      ],
      "execution_count": 1,
      "outputs": [
        {
          "output_type": "stream",
          "text": [
            "哈囉。我是Zyxo 64。我是一個聊天機器人。\n",
            "我喜歡動物，也喜歡聊食物。\n",
            "你叫什麼名字？: 雅涵\n",
            "你好 雅涵 很高興認識你\n",
            "我記不太清楚日期。今年是幾年？： 2020\n",
            "好的，我覺得沒錯。謝謝！\n",
            "你能猜出我的年齡嗎？ - 輸入一個數字： 15\n",
            "沒錯，你猜對了。我 15\n",
            "我再 85 年就滿100歲了。\n",
            "到時候是 2105\n"
          ],
          "name": "stdout"
        }
      ]
    },
    {
      "cell_type": "code",
      "metadata": {
        "id": "rWL7SqdgbMs4",
        "colab_type": "code",
        "colab": {
          "base_uri": "https://localhost:8080/",
          "height": 100
        },
        "outputId": "575d5812-1870-40f2-ce8c-5066600a5b12"
      },
      "source": [
        "# 食物話題\n",
        "print(\"我喜歡巧克力，也喜歡嘗試各種新食物。\")\n",
        "food = input(\"你呢。你最喜歡的食物是什麼？： \")\n",
        "print(\"我也喜歡\", food)\n",
        "question = \"你多久吃一次\" + food + \"?: \"\n",
        "howoften = input(question)\n",
        "print(\"真有趣。不知道這樣對健康好不好！\")"
      ],
      "execution_count": 2,
      "outputs": [
        {
          "output_type": "stream",
          "text": [
            "我喜歡巧克力，也喜歡嘗試各種新食物。\n",
            "你呢。你最喜歡的食物是什麼？： 火鍋\n",
            "我也喜歡 火鍋\n",
            "你多久吃一次火鍋?: 一個禮拜兩次\n",
            "真有趣。不知道這樣對健康好不好！\n"
          ],
          "name": "stdout"
        }
      ]
    },
    {
      "cell_type": "code",
      "metadata": {
        "id": "tmKEokhAbZz-",
        "colab_type": "code",
        "colab": {
          "base_uri": "https://localhost:8080/",
          "height": 67
        },
        "outputId": "890d4659-602f-4a29-adb4-62c48763d8ce"
      },
      "source": [
        "# 動物話題\n",
        "animal = input(\"我最喜歡的動物是長頸鹿。你呢？； \")\n",
        "print(animal, \"! 我不喜歡。\")\n",
        "print(\"不知道\", animal, \"喜不喜歡吃\", food, \"?\")"
      ],
      "execution_count": 3,
      "outputs": [
        {
          "output_type": "stream",
          "text": [
            "我最喜歡的動物是長頸鹿。你呢？； 貓\n",
            "貓 ! 我不喜歡。\n",
            "不知道 貓 喜不喜歡吃 火鍋 ?\n"
          ],
          "name": "stdout"
        }
      ]
    },
    {
      "cell_type": "code",
      "metadata": {
        "id": "gPZg7-ksbf70",
        "colab_type": "code",
        "colab": {
          "base_uri": "https://localhost:8080/",
          "height": 84
        },
        "outputId": "0a0d4b28-8e6c-4b8f-b865-685b705be080"
      },
      "source": [
        "# 關於心情的對話\n",
        "feeling = input(\"你今天覺得如何？； \")\n",
        "print(\"為什麼你現在覺得\", feeling, \"呢？\")\n",
        "reason = input(\"請告訴我： \")\n",
        "print(\"我知道了。謝謝分享。\")"
      ],
      "execution_count": 4,
      "outputs": [
        {
          "output_type": "stream",
          "text": [
            "你今天覺得如何？； 心情不太好\n",
            "為什麼你現在覺得 心情不太好 呢？\n",
            "請告訴我： 下了一整天的雨\n",
            "我知道了。謝謝分享。\n"
          ],
          "name": "stdout"
        }
      ]
    },
    {
      "cell_type": "code",
      "metadata": {
        "id": "X6GFX5gLbhT6",
        "colab_type": "code",
        "colab": {
          "base_uri": "https://localhost:8080/",
          "height": 67
        },
        "outputId": "287f5424-bbb0-4701-8d6d-a1edf6c45c65"
      },
      "source": [
        "# 道別\n",
        "print(\"今天事情真多！\")\n",
        "print(\"我累到無法繼續聊天了，之後再聊。\")\n",
        "print(\"再見\", name, \"我喜歡跟你聊天！\")"
      ],
      "execution_count": 5,
      "outputs": [
        {
          "output_type": "stream",
          "text": [
            "今天事情真多！\n",
            "我累到無法繼續聊天了，之後再聊。\n",
            "再見 雅涵 我喜歡跟你聊天！\n"
          ],
          "name": "stdout"
        }
      ]
    }
  ]
}