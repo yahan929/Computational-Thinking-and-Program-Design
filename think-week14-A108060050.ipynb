{
  "nbformat": 4,
  "nbformat_minor": 0,
  "metadata": {
    "colab": {
      "name": "Untitled7.ipynb",
      "provenance": [],
      "authorship_tag": "ABX9TyPnTWMOa0w45a7QG1JD4Ty7",
      "include_colab_link": true
    },
    "kernelspec": {
      "name": "python3",
      "display_name": "Python 3"
    }
  },
  "cells": [
    {
      "cell_type": "markdown",
      "metadata": {
        "id": "view-in-github",
        "colab_type": "text"
      },
      "source": [
        "<a href=\"https://colab.research.google.com/github/yahan929/Computational-Thinking-and-Program-Design/blob/master/think-week14-A108060050.ipynb\" target=\"_parent\"><img src=\"https://colab.research.google.com/assets/colab-badge.svg\" alt=\"Open In Colab\"/></a>"
      ]
    },
    {
      "cell_type": "code",
      "metadata": {
        "id": "vbiMI0qjp2Cj",
        "colab_type": "code",
        "colab": {
          "base_uri": "https://localhost:8080/",
          "height": 84
        },
        "outputId": "9d34ca3a-62c7-452e-d3ce-baf91b3469bc"
      },
      "source": [
        "w=float(input(\"請輸入你的體重(公斤)?\"))\n",
        "h=float(input(\"請輸入你的身高(公尺)?\"))\n",
        "BMI=w/(h*h)\n",
        "print(\"BMI指數是\",BMI)\n",
        "if BMI<=18.5:\n",
        "   print(\"體重過輕\")\n",
        "elif BMI<=25:\n",
        "   print(\"體重正常\")\n",
        "elif BMI<=30:\n",
        "   print(\"體重過重\")\n",
        "elif BMI>30:\n",
        "   print(\"體重肥胖\")"
      ],
      "execution_count": 1,
      "outputs": [
        {
          "output_type": "stream",
          "text": [
            "請輸入你的體重(公斤)?58\n",
            "請輸入你的身高(公尺)?1.68\n",
            "BMI指數是 20.549886621315196\n",
            "體重正常\n"
          ],
          "name": "stdout"
        }
      ]
    },
    {
      "cell_type": "code",
      "metadata": {
        "id": "UQWRaS5Gqvlv",
        "colab_type": "code",
        "colab": {
          "base_uri": "https://localhost:8080/",
          "height": 184
        },
        "outputId": "6c978de9-4093-4a06-8cf8-b4cfe416c379"
      },
      "source": [
        "n=0\n",
        "while n < 10:\n",
        "  print(\"Hello，你好嗎\")\n",
        "  n=n+1"
      ],
      "execution_count": 2,
      "outputs": [
        {
          "output_type": "stream",
          "text": [
            "Hello，你好嗎\n",
            "Hello，你好嗎\n",
            "Hello，你好嗎\n",
            "Hello，你好嗎\n",
            "Hello，你好嗎\n",
            "Hello，你好嗎\n",
            "Hello，你好嗎\n",
            "Hello，你好嗎\n",
            "Hello，你好嗎\n",
            "Hello，你好嗎\n"
          ],
          "name": "stdout"
        }
      ]
    },
    {
      "cell_type": "code",
      "metadata": {
        "id": "rD8vOiJsq7UJ",
        "colab_type": "code",
        "colab": {
          "base_uri": "https://localhost:8080/",
          "height": 184
        },
        "outputId": "393bf1b1-3715-4109-d398-2575586a35b5"
      },
      "source": [
        "n=0\n",
        "while n < 10:\n",
        "  print(\"Hello,你好嗎\")\n",
        "  n=1\n",
        "  print(\"Hello,你好嗎\")\n",
        "  n=2\n",
        "  print(\"Hello,你好嗎\")\n",
        "  n=3\n",
        "  print(\"Hello,你好嗎\")\n",
        "  n=4\n",
        "  print(\"Hello,你好嗎\")\n",
        "  n=5\n",
        "  print(\"Hello,你好嗎\")\n",
        "  n=6\n",
        "  print(\"Hello,你好嗎\")\n",
        "  n=7\n",
        "  print(\"Hello,你好嗎\")\n",
        "  n=8\n",
        "  print(\"Hello,你好嗎\")\n",
        "  n=9\n",
        "  print(\"Hello,你好嗎\")\n",
        "  n=10"
      ],
      "execution_count": 3,
      "outputs": [
        {
          "output_type": "stream",
          "text": [
            "Hello,你好嗎\n",
            "Hello,你好嗎\n",
            "Hello,你好嗎\n",
            "Hello,你好嗎\n",
            "Hello,你好嗎\n",
            "Hello,你好嗎\n",
            "Hello,你好嗎\n",
            "Hello,你好嗎\n",
            "Hello,你好嗎\n",
            "Hello,你好嗎\n"
          ],
          "name": "stdout"
        }
      ]
    }
  ]
}